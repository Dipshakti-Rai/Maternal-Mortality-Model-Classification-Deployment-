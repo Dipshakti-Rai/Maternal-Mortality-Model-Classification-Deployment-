{
 "cells": [
  {
   "cell_type": "code",
   "execution_count": 1,
   "id": "553dc917-13d5-4ee2-8507-0c9a826fa33c",
   "metadata": {},
   "outputs": [],
   "source": [
    "import pandas as pd\n",
    "import numpy as np\n",
    "import matplotlib.pyplot as plt\n",
    "import seaborn as sns\n",
    "from sklearn.preprocessing import LabelEncoder\n",
    "from sklearn.model_selection import train_test_split,GridSearchCV\n",
    "from sklearn.svm import SVC\n",
    "from sklearn.naive_bayes import GaussianNB\n",
    "from sklearn.tree import DecisionTreeClassifier\n",
    "from sklearn.ensemble import RandomForestClassifier, GradientBoostingClassifier\n",
    "import xgboost as xgb\n",
    "from sklearn.ensemble import BaggingClassifier\n",
    "from sklearn.metrics import classification_report,confusion_matrix"
   ]
  },
  {
   "cell_type": "code",
   "execution_count": 2,
   "id": "3eb90779-ac44-4385-8ddb-354e8b7ac165",
   "metadata": {},
   "outputs": [],
   "source": [
    "# Reading dataset"
   ]
  },
  {
   "cell_type": "code",
   "execution_count": 3,
   "id": "eedbcba0-b6b9-408c-8da3-907b0fd91435",
   "metadata": {},
   "outputs": [],
   "source": [
    "df=pd.read_csv(\"Maternal Health Risk.csv\")"
   ]
  },
  {
   "cell_type": "code",
   "execution_count": 4,
   "id": "c11f36c0-c06b-453e-8134-ac183ac35f4f",
   "metadata": {},
   "outputs": [
    {
     "data": {
      "text/html": [
       "<div>\n",
       "<style scoped>\n",
       "    .dataframe tbody tr th:only-of-type {\n",
       "        vertical-align: middle;\n",
       "    }\n",
       "\n",
       "    .dataframe tbody tr th {\n",
       "        vertical-align: top;\n",
       "    }\n",
       "\n",
       "    .dataframe thead th {\n",
       "        text-align: right;\n",
       "    }\n",
       "</style>\n",
       "<table border=\"1\" class=\"dataframe\">\n",
       "  <thead>\n",
       "    <tr style=\"text-align: right;\">\n",
       "      <th></th>\n",
       "      <th>Age</th>\n",
       "      <th>SystolicBP</th>\n",
       "      <th>DiastolicBP</th>\n",
       "      <th>BS</th>\n",
       "      <th>BodyTemp</th>\n",
       "      <th>HeartRate</th>\n",
       "      <th>RiskLevel</th>\n",
       "    </tr>\n",
       "  </thead>\n",
       "  <tbody>\n",
       "    <tr>\n",
       "      <th>0</th>\n",
       "      <td>25</td>\n",
       "      <td>130</td>\n",
       "      <td>80</td>\n",
       "      <td>15.0</td>\n",
       "      <td>98.0</td>\n",
       "      <td>86</td>\n",
       "      <td>high risk</td>\n",
       "    </tr>\n",
       "    <tr>\n",
       "      <th>1</th>\n",
       "      <td>35</td>\n",
       "      <td>140</td>\n",
       "      <td>90</td>\n",
       "      <td>13.0</td>\n",
       "      <td>98.0</td>\n",
       "      <td>70</td>\n",
       "      <td>high risk</td>\n",
       "    </tr>\n",
       "    <tr>\n",
       "      <th>2</th>\n",
       "      <td>29</td>\n",
       "      <td>90</td>\n",
       "      <td>70</td>\n",
       "      <td>8.0</td>\n",
       "      <td>100.0</td>\n",
       "      <td>80</td>\n",
       "      <td>high risk</td>\n",
       "    </tr>\n",
       "    <tr>\n",
       "      <th>3</th>\n",
       "      <td>30</td>\n",
       "      <td>140</td>\n",
       "      <td>85</td>\n",
       "      <td>7.0</td>\n",
       "      <td>98.0</td>\n",
       "      <td>70</td>\n",
       "      <td>high risk</td>\n",
       "    </tr>\n",
       "    <tr>\n",
       "      <th>4</th>\n",
       "      <td>35</td>\n",
       "      <td>120</td>\n",
       "      <td>60</td>\n",
       "      <td>6.1</td>\n",
       "      <td>98.0</td>\n",
       "      <td>76</td>\n",
       "      <td>low risk</td>\n",
       "    </tr>\n",
       "  </tbody>\n",
       "</table>\n",
       "</div>"
      ],
      "text/plain": [
       "   Age  SystolicBP  DiastolicBP    BS  BodyTemp  HeartRate  RiskLevel\n",
       "0   25         130           80  15.0      98.0         86  high risk\n",
       "1   35         140           90  13.0      98.0         70  high risk\n",
       "2   29          90           70   8.0     100.0         80  high risk\n",
       "3   30         140           85   7.0      98.0         70  high risk\n",
       "4   35         120           60   6.1      98.0         76   low risk"
      ]
     },
     "execution_count": 4,
     "metadata": {},
     "output_type": "execute_result"
    }
   ],
   "source": [
    "df.head()"
   ]
  },
  {
   "cell_type": "code",
   "execution_count": 5,
   "id": "bcdcdc08-d535-41bd-8dbb-e50bc1bb0446",
   "metadata": {},
   "outputs": [
    {
     "data": {
      "text/plain": [
       "(1014, 7)"
      ]
     },
     "execution_count": 5,
     "metadata": {},
     "output_type": "execute_result"
    }
   ],
   "source": [
    "df.shape"
   ]
  },
  {
   "cell_type": "code",
   "execution_count": 6,
   "id": "b44f2e92-aee5-4c22-8192-47e4472401c1",
   "metadata": {},
   "outputs": [
    {
     "data": {
      "text/plain": [
       "Age            0\n",
       "SystolicBP     0\n",
       "DiastolicBP    0\n",
       "BS             0\n",
       "BodyTemp       0\n",
       "HeartRate      0\n",
       "RiskLevel      0\n",
       "dtype: int64"
      ]
     },
     "execution_count": 6,
     "metadata": {},
     "output_type": "execute_result"
    }
   ],
   "source": [
    "df.isnull().sum()"
   ]
  },
  {
   "cell_type": "code",
   "execution_count": 7,
   "id": "387a20da-0ff7-4bb3-ae69-d905615a597c",
   "metadata": {},
   "outputs": [
    {
     "data": {
      "text/html": [
       "<div>\n",
       "<style scoped>\n",
       "    .dataframe tbody tr th:only-of-type {\n",
       "        vertical-align: middle;\n",
       "    }\n",
       "\n",
       "    .dataframe tbody tr th {\n",
       "        vertical-align: top;\n",
       "    }\n",
       "\n",
       "    .dataframe thead th {\n",
       "        text-align: right;\n",
       "    }\n",
       "</style>\n",
       "<table border=\"1\" class=\"dataframe\">\n",
       "  <thead>\n",
       "    <tr style=\"text-align: right;\">\n",
       "      <th></th>\n",
       "      <th>Age</th>\n",
       "      <th>SystolicBP</th>\n",
       "      <th>DiastolicBP</th>\n",
       "      <th>BS</th>\n",
       "      <th>BodyTemp</th>\n",
       "      <th>HeartRate</th>\n",
       "    </tr>\n",
       "  </thead>\n",
       "  <tbody>\n",
       "    <tr>\n",
       "      <th>count</th>\n",
       "      <td>1014.000000</td>\n",
       "      <td>1014.000000</td>\n",
       "      <td>1014.000000</td>\n",
       "      <td>1014.000000</td>\n",
       "      <td>1014.000000</td>\n",
       "      <td>1014.000000</td>\n",
       "    </tr>\n",
       "    <tr>\n",
       "      <th>mean</th>\n",
       "      <td>29.871795</td>\n",
       "      <td>113.198225</td>\n",
       "      <td>76.460552</td>\n",
       "      <td>8.725986</td>\n",
       "      <td>98.665089</td>\n",
       "      <td>74.301775</td>\n",
       "    </tr>\n",
       "    <tr>\n",
       "      <th>std</th>\n",
       "      <td>13.474386</td>\n",
       "      <td>18.403913</td>\n",
       "      <td>13.885796</td>\n",
       "      <td>3.293532</td>\n",
       "      <td>1.371384</td>\n",
       "      <td>8.088702</td>\n",
       "    </tr>\n",
       "    <tr>\n",
       "      <th>min</th>\n",
       "      <td>10.000000</td>\n",
       "      <td>70.000000</td>\n",
       "      <td>49.000000</td>\n",
       "      <td>6.000000</td>\n",
       "      <td>98.000000</td>\n",
       "      <td>7.000000</td>\n",
       "    </tr>\n",
       "    <tr>\n",
       "      <th>25%</th>\n",
       "      <td>19.000000</td>\n",
       "      <td>100.000000</td>\n",
       "      <td>65.000000</td>\n",
       "      <td>6.900000</td>\n",
       "      <td>98.000000</td>\n",
       "      <td>70.000000</td>\n",
       "    </tr>\n",
       "    <tr>\n",
       "      <th>50%</th>\n",
       "      <td>26.000000</td>\n",
       "      <td>120.000000</td>\n",
       "      <td>80.000000</td>\n",
       "      <td>7.500000</td>\n",
       "      <td>98.000000</td>\n",
       "      <td>76.000000</td>\n",
       "    </tr>\n",
       "    <tr>\n",
       "      <th>75%</th>\n",
       "      <td>39.000000</td>\n",
       "      <td>120.000000</td>\n",
       "      <td>90.000000</td>\n",
       "      <td>8.000000</td>\n",
       "      <td>98.000000</td>\n",
       "      <td>80.000000</td>\n",
       "    </tr>\n",
       "    <tr>\n",
       "      <th>max</th>\n",
       "      <td>70.000000</td>\n",
       "      <td>160.000000</td>\n",
       "      <td>100.000000</td>\n",
       "      <td>19.000000</td>\n",
       "      <td>103.000000</td>\n",
       "      <td>90.000000</td>\n",
       "    </tr>\n",
       "  </tbody>\n",
       "</table>\n",
       "</div>"
      ],
      "text/plain": [
       "               Age   SystolicBP  DiastolicBP           BS     BodyTemp  \\\n",
       "count  1014.000000  1014.000000  1014.000000  1014.000000  1014.000000   \n",
       "mean     29.871795   113.198225    76.460552     8.725986    98.665089   \n",
       "std      13.474386    18.403913    13.885796     3.293532     1.371384   \n",
       "min      10.000000    70.000000    49.000000     6.000000    98.000000   \n",
       "25%      19.000000   100.000000    65.000000     6.900000    98.000000   \n",
       "50%      26.000000   120.000000    80.000000     7.500000    98.000000   \n",
       "75%      39.000000   120.000000    90.000000     8.000000    98.000000   \n",
       "max      70.000000   160.000000   100.000000    19.000000   103.000000   \n",
       "\n",
       "         HeartRate  \n",
       "count  1014.000000  \n",
       "mean     74.301775  \n",
       "std       8.088702  \n",
       "min       7.000000  \n",
       "25%      70.000000  \n",
       "50%      76.000000  \n",
       "75%      80.000000  \n",
       "max      90.000000  "
      ]
     },
     "execution_count": 7,
     "metadata": {},
     "output_type": "execute_result"
    }
   ],
   "source": [
    "df.describe()"
   ]
  },
  {
   "cell_type": "code",
   "execution_count": 8,
   "id": "6086bf96-4356-46a3-9f4c-ff3a9cc0c992",
   "metadata": {},
   "outputs": [
    {
     "name": "stdout",
     "output_type": "stream",
     "text": [
      "<class 'pandas.core.frame.DataFrame'>\n",
      "RangeIndex: 1014 entries, 0 to 1013\n",
      "Data columns (total 7 columns):\n",
      " #   Column       Non-Null Count  Dtype  \n",
      "---  ------       --------------  -----  \n",
      " 0   Age          1014 non-null   int64  \n",
      " 1   SystolicBP   1014 non-null   int64  \n",
      " 2   DiastolicBP  1014 non-null   int64  \n",
      " 3   BS           1014 non-null   float64\n",
      " 4   BodyTemp     1014 non-null   float64\n",
      " 5   HeartRate    1014 non-null   int64  \n",
      " 6   RiskLevel    1014 non-null   object \n",
      "dtypes: float64(2), int64(4), object(1)\n",
      "memory usage: 55.6+ KB\n"
     ]
    }
   ],
   "source": [
    "df.info()"
   ]
  },
  {
   "cell_type": "code",
   "execution_count": 9,
   "id": "8fe0abf9-ee95-4154-b9e3-75a291f9a974",
   "metadata": {},
   "outputs": [],
   "source": [
    "# Visualising class unique counts"
   ]
  },
  {
   "cell_type": "code",
   "execution_count": 10,
   "id": "9f818e3b-1a96-4eed-b4a5-e37aa5249576",
   "metadata": {},
   "outputs": [
    {
     "data": {
      "text/plain": [
       "[Text(0, 0, '272 (27%)'), Text(0, 0, '336 (33%)'), Text(0, 0, '406 (40%)')]"
      ]
     },
     "execution_count": 10,
     "metadata": {},
     "output_type": "execute_result"
    },
    {
     "data": {
      "image/png": "[encoded data removed]",
      "text/plain": [
       "<Figure size 432x288 with 1 Axes>"
      ]
     },
     "metadata": {
      "needs_background": "light"
     },
     "output_type": "display_data"
    }
   ],
   "source": [
    "ax = sns.countplot(x=df.RiskLevel,\n",
    "                   order=df.RiskLevel.value_counts(ascending=True).index);\n",
    "        \n",
    "abs_values = df['RiskLevel'].value_counts(ascending=True)\n",
    "rel_values = df['RiskLevel'].value_counts(ascending=True, normalize=True).values * 100\n",
    "lbls = [f'{p[0]} ({p[1]:.0f}%)' for p in zip(abs_values, rel_values)]\n",
    "\n",
    "ax.bar_label(container=ax.containers[0], labels=lbls)"
   ]
  },
  {
   "cell_type": "code",
   "execution_count": 11,
   "id": "743320a7-9418-4249-8176-6589ef7af5e2",
   "metadata": {},
   "outputs": [],
   "source": [
    "# Checking multicollinearity between features"
   ]
  },
  {
   "cell_type": "code",
   "execution_count": 12,
   "id": "f9c104e9-cef7-4932-be6d-be81a4a398b2",
   "metadata": {},
   "outputs": [
    {
     "data": {
      "text/plain": [
       "<AxesSubplot:>"
      ]
     },
     "execution_count": 12,
     "metadata": {},
     "output_type": "execute_result"
    },
    {
     "data": {
      "image/png": "[encoded data removed]",
      "text/plain": [
       "<Figure size 432x288 with 2 Axes>"
      ]
     },
     "metadata": {
      "needs_background": "light"
     },
     "output_type": "display_data"
    }
   ],
   "source": [
    "sns.heatmap(df.corr(), annot=True)"
   ]
  },
  {
   "cell_type": "code",
   "execution_count": 42,
   "id": "ea893c06-af55-46c7-b227-0769fa07191a",
   "metadata": {},
   "outputs": [],
   "source": [
    "# SystolicBP and DiastolicBP seems more corealted which have positive corelation of 0.79, whic is almost tolerable "
   ]
  },
  {
   "cell_type": "code",
   "execution_count": 14,
   "id": "441a296f-1304-4f53-9678-85e7c81b1806",
   "metadata": {},
   "outputs": [],
   "source": [
    "# bucketing of Age variables"
   ]
  },
  {
   "cell_type": "code",
   "execution_count": 15,
   "id": "87aa33e8-c769-46ad-9dd1-5e5f67f1c960",
   "metadata": {},
   "outputs": [
    {
     "data": {
      "text/plain": [
       "array([10, 15, 20, 25, 30, 35, 40, 45, 50, 55, 60, 65, 70])"
      ]
     },
     "execution_count": 15,
     "metadata": {},
     "output_type": "execute_result"
    }
   ],
   "source": [
    "bins=np.arange(10,71,5)\n",
    "bins"
   ]
  },
  {
   "cell_type": "code",
   "execution_count": 16,
   "id": "09b0ca75-4772-45de-8539-045c299d56d9",
   "metadata": {},
   "outputs": [
    {
     "data": {
      "text/plain": [
       "0       (20, 25]\n",
       "1       (30, 35]\n",
       "2       (25, 30]\n",
       "3       (25, 30]\n",
       "4       (30, 35]\n",
       "          ...   \n",
       "1009    (20, 25]\n",
       "1010    (50, 55]\n",
       "1011    (30, 35]\n",
       "1012    (40, 45]\n",
       "1013    (30, 35]\n",
       "Name: Age, Length: 1014, dtype: category\n",
       "Categories (12, interval[int64, right]): [(10, 15] < (15, 20] < (20, 25] < (25, 30] ... (50, 55] < (55, 60] < (60, 65] < (65, 70]]"
      ]
     },
     "execution_count": 16,
     "metadata": {},
     "output_type": "execute_result"
    }
   ],
   "source": [
    "df['Age']=pd.cut(df.Age,bins=bins)\n",
    "df['Age']"
   ]
  },
  {
   "cell_type": "code",
   "execution_count": 17,
   "id": "bad633e6-a9a2-41ad-a3c8-a2ef07fe8d67",
   "metadata": {},
   "outputs": [],
   "source": [
    "# Using label encoder for categorial data(ordering into neumerical form)"
   ]
  },
  {
   "cell_type": "code",
   "execution_count": 18,
   "id": "b1eb04a1-b1d8-465f-adc6-9684e36c1bbb",
   "metadata": {},
   "outputs": [],
   "source": [
    "label_encoder=LabelEncoder()\n",
    "label_encoder2=LabelEncoder()"
   ]
  },
  {
   "cell_type": "code",
   "execution_count": 19,
   "id": "4b51ec9d-1c45-4b25-a15f-cd813238dfb4",
   "metadata": {},
   "outputs": [],
   "source": [
    "df['AgeBucket_n']=label_encoder.fit_transform(df.Age)\n",
    "df['RiskLevel_n']=label_encoder2.fit_transform(df.RiskLevel)"
   ]
  },
  {
   "cell_type": "code",
   "execution_count": 20,
   "id": "41e74353-829b-4651-b0b0-2620c9802957",
   "metadata": {},
   "outputs": [],
   "source": [
    "# Mapping values assigned to label encoder"
   ]
  },
  {
   "cell_type": "code",
   "execution_count": 21,
   "id": "f605162e-80f2-47d8-b56d-578b1302b7ec",
   "metadata": {},
   "outputs": [
    {
     "name": "stdout",
     "output_type": "stream",
     "text": [
      "{Interval(10.0, 15.0, closed='right'): 0, Interval(15.0, 20.0, closed='right'): 1, Interval(20.0, 25.0, closed='right'): 2, Interval(25.0, 30.0, closed='right'): 3, Interval(30.0, 35.0, closed='right'): 4, Interval(35.0, 40.0, closed='right'): 5, Interval(40.0, 45.0, closed='right'): 6, Interval(45.0, 50.0, closed='right'): 7, Interval(50.0, 55.0, closed='right'): 8, Interval(55.0, 60.0, closed='right'): 9, Interval(60.0, 65.0, closed='right'): 10, Interval(65.0, 70.0, closed='right'): 11, nan: 12}\n"
     ]
    }
   ],
   "source": [
    "le_Age_mapping = dict(zip(label_encoder.classes_, label_encoder.transform(label_encoder.classes_)))\n",
    "print(le_Age_mapping)"
   ]
  },
  {
   "cell_type": "code",
   "execution_count": 22,
   "id": "22462c16-383d-4595-aacf-fc65b0da4382",
   "metadata": {},
   "outputs": [
    {
     "name": "stdout",
     "output_type": "stream",
     "text": [
      "{'high risk': 0, 'low risk': 1, 'mid risk': 2}\n"
     ]
    }
   ],
   "source": [
    "le_RiskLevel_mapping = dict(zip(label_encoder2.classes_, label_encoder2.transform(label_encoder2.classes_)))\n",
    "print(le_RiskLevel_mapping)"
   ]
  },
  {
   "cell_type": "code",
   "execution_count": 23,
   "id": "26fc7468-9fba-441f-b73a-c09ca27fb61e",
   "metadata": {},
   "outputs": [
    {
     "data": {
      "text/html": [
       "<div>\n",
       "<style scoped>\n",
       "    .dataframe tbody tr th:only-of-type {\n",
       "        vertical-align: middle;\n",
       "    }\n",
       "\n",
       "    .dataframe tbody tr th {\n",
       "        vertical-align: top;\n",
       "    }\n",
       "\n",
       "    .dataframe thead th {\n",
       "        text-align: right;\n",
       "    }\n",
       "</style>\n",
       "<table border=\"1\" class=\"dataframe\">\n",
       "  <thead>\n",
       "    <tr style=\"text-align: right;\">\n",
       "      <th></th>\n",
       "      <th>SystolicBP</th>\n",
       "      <th>DiastolicBP</th>\n",
       "      <th>BS</th>\n",
       "      <th>BodyTemp</th>\n",
       "      <th>HeartRate</th>\n",
       "      <th>AgeBucket_n</th>\n",
       "      <th>RiskLevel_n</th>\n",
       "    </tr>\n",
       "  </thead>\n",
       "  <tbody>\n",
       "    <tr>\n",
       "      <th>0</th>\n",
       "      <td>130</td>\n",
       "      <td>80</td>\n",
       "      <td>15.0</td>\n",
       "      <td>98.0</td>\n",
       "      <td>86</td>\n",
       "      <td>2</td>\n",
       "      <td>0</td>\n",
       "    </tr>\n",
       "    <tr>\n",
       "      <th>1</th>\n",
       "      <td>140</td>\n",
       "      <td>90</td>\n",
       "      <td>13.0</td>\n",
       "      <td>98.0</td>\n",
       "      <td>70</td>\n",
       "      <td>4</td>\n",
       "      <td>0</td>\n",
       "    </tr>\n",
       "    <tr>\n",
       "      <th>2</th>\n",
       "      <td>90</td>\n",
       "      <td>70</td>\n",
       "      <td>8.0</td>\n",
       "      <td>100.0</td>\n",
       "      <td>80</td>\n",
       "      <td>3</td>\n",
       "      <td>0</td>\n",
       "    </tr>\n",
       "    <tr>\n",
       "      <th>3</th>\n",
       "      <td>140</td>\n",
       "      <td>85</td>\n",
       "      <td>7.0</td>\n",
       "      <td>98.0</td>\n",
       "      <td>70</td>\n",
       "      <td>3</td>\n",
       "      <td>0</td>\n",
       "    </tr>\n",
       "    <tr>\n",
       "      <th>4</th>\n",
       "      <td>120</td>\n",
       "      <td>60</td>\n",
       "      <td>6.1</td>\n",
       "      <td>98.0</td>\n",
       "      <td>76</td>\n",
       "      <td>4</td>\n",
       "      <td>1</td>\n",
       "    </tr>\n",
       "  </tbody>\n",
       "</table>\n",
       "</div>"
      ],
      "text/plain": [
       "   SystolicBP  DiastolicBP    BS  BodyTemp  HeartRate  AgeBucket_n  \\\n",
       "0         130           80  15.0      98.0         86            2   \n",
       "1         140           90  13.0      98.0         70            4   \n",
       "2          90           70   8.0     100.0         80            3   \n",
       "3         140           85   7.0      98.0         70            3   \n",
       "4         120           60   6.1      98.0         76            4   \n",
       "\n",
       "   RiskLevel_n  \n",
       "0            0  \n",
       "1            0  \n",
       "2            0  \n",
       "3            0  \n",
       "4            1  "
      ]
     },
     "execution_count": 23,
     "metadata": {},
     "output_type": "execute_result"
    }
   ],
   "source": [
    "df=df.drop(['Age','RiskLevel'],axis=1)\n",
    "df.head()"
   ]
  },
  {
   "cell_type": "code",
   "execution_count": 24,
   "id": "1513a950-6784-4681-b60d-a1a59e46ee86",
   "metadata": {},
   "outputs": [],
   "source": [
    "X=df.drop('RiskLevel_n',axis=1)\n",
    "data=X.values"
   ]
  },
  {
   "cell_type": "code",
   "execution_count": 25,
   "id": "21668ebd-e41c-45e9-890f-5b55ef4ccd40",
   "metadata": {},
   "outputs": [],
   "source": [
    "y=df.RiskLevel_n\n",
    "labels=y.values"
   ]
  },
  {
   "cell_type": "code",
   "execution_count": 26,
   "id": "eb8cef26-e191-4152-892d-93ed7f9a83b2",
   "metadata": {},
   "outputs": [],
   "source": [
    "# train test split "
   ]
  },
  {
   "cell_type": "code",
   "execution_count": 27,
   "id": "f16abfeb-405c-473d-9458-763f1e30f1b8",
   "metadata": {},
   "outputs": [],
   "source": [
    "X_train,X_test,y_train,y_test=train_test_split(data,labels,test_size=0.2,random_state=30)"
   ]
  },
  {
   "cell_type": "code",
   "execution_count": 28,
   "id": "3e1df8b5-20f6-4201-b723-42acf5d55d2d",
   "metadata": {},
   "outputs": [],
   "source": [
    "# setting hyperparameter tunning for GridSearchCV and finding out best model"
   ]
  },
  {
   "cell_type": "code",
   "execution_count": 29,
   "id": "ff0b2078-e1a8-4d10-ade7-54f6088f50cd",
   "metadata": {},
   "outputs": [],
   "source": [
    "model_params={\n",
    "       'GaussianNB':{\n",
    "        'model':GaussianNB(),\n",
    "        'param':{'var_smoothing': np.logspace(0,-9, num=100)\n",
    "        \n",
    "        }\n",
    "    },\n",
    "    'RandomForest':{\n",
    "        'model':RandomForestClassifier(),\n",
    "        'param':{'n_estimators':[1,5,10]\n",
    "            \n",
    "        }\n",
    "    },\n",
    "    'DecisionTreeClassifier':{\n",
    "        'model':DecisionTreeClassifier(),\n",
    "        'param':{\n",
    "            'criterion': ['gini', 'entropy'],\n",
    "            'splitter':['best','random'],\n",
    "            'max_depth': range(1,10)\n",
    "        }\n",
    "        \n",
    "    },\n",
    "    'SVM':{\n",
    "        'model':SVC(gamma='auto'),\n",
    "        'param':{\n",
    "            'C':[1,10,20],\n",
    "            'kernel':['rbf','linear']\n",
    "            \n",
    "        }\n",
    "    },\n",
    "    'XGBoosT':{\n",
    "        'model':xgb.XGBClassifier(),\n",
    "        'param':{\n",
    "              'max_depth': [3, 6, 10, 15],\n",
    "    \n",
    "              'n_estimators': [100, 250, 500, 750],\n",
    "        }\n",
    "    },\n",
    "    'BaggingClassifier':{\n",
    "        'model':BaggingClassifier(),\n",
    "        'param':{\n",
    "              'n_estimators' : [100, 300, 500, 800, 1200]\n",
    "              \n",
    "            \n",
    "        }\n",
    "    }\n",
    "   } "
   ]
  },
  {
   "cell_type": "code",
   "execution_count": 30,
   "id": "b4a481ce-f31b-4440-9706-688a6cbf62ee",
   "metadata": {},
   "outputs": [],
   "source": [
    "scores=[]\n",
    "for model_name,mp in model_params.items():\n",
    "    mod_grid=GridSearchCV(mp['model'],mp['param'],cv=10,return_train_score=False)\n",
    "    mod_grid.fit(X_train,y_train)\n",
    "    scores.append({\n",
    "        'model':model_name,\n",
    "        'best_score':mod_grid.best_score_,\n",
    "        'best_param':mod_grid.best_params_\n",
    "    })"
   ]
  },
  {
   "cell_type": "code",
   "execution_count": 31,
   "id": "d48db85e-65da-469c-8785-5c039bdbed15",
   "metadata": {},
   "outputs": [
    {
     "data": {
      "text/html": [
       "<div>\n",
       "<style scoped>\n",
       "    .dataframe tbody tr th:only-of-type {\n",
       "        vertical-align: middle;\n",
       "    }\n",
       "\n",
       "    .dataframe tbody tr th {\n",
       "        vertical-align: top;\n",
       "    }\n",
       "\n",
       "    .dataframe thead th {\n",
       "        text-align: right;\n",
       "    }\n",
       "</style>\n",
       "<table border=\"1\" class=\"dataframe\">\n",
       "  <thead>\n",
       "    <tr style=\"text-align: right;\">\n",
       "      <th></th>\n",
       "      <th>model</th>\n",
       "      <th>best_score</th>\n",
       "      <th>best_param</th>\n",
       "    </tr>\n",
       "  </thead>\n",
       "  <tbody>\n",
       "    <tr>\n",
       "      <th>0</th>\n",
       "      <td>GaussianNB</td>\n",
       "      <td>0.612812</td>\n",
       "      <td>{'var_smoothing': 0.0012328467394420659}</td>\n",
       "    </tr>\n",
       "    <tr>\n",
       "      <th>1</th>\n",
       "      <td>RandomForest</td>\n",
       "      <td>0.837293</td>\n",
       "      <td>{'n_estimators': 10}</td>\n",
       "    </tr>\n",
       "    <tr>\n",
       "      <th>2</th>\n",
       "      <td>DecisionTreeClassifier</td>\n",
       "      <td>0.738663</td>\n",
       "      <td>{'criterion': 'entropy', 'max_depth': 9, 'spli...</td>\n",
       "    </tr>\n",
       "    <tr>\n",
       "      <th>3</th>\n",
       "      <td>SVM</td>\n",
       "      <td>0.764544</td>\n",
       "      <td>{'C': 20, 'kernel': 'rbf'}</td>\n",
       "    </tr>\n",
       "    <tr>\n",
       "      <th>4</th>\n",
       "      <td>XGBoosT</td>\n",
       "      <td>0.850828</td>\n",
       "      <td>{'max_depth': 3, 'n_estimators': 750}</td>\n",
       "    </tr>\n",
       "    <tr>\n",
       "      <th>5</th>\n",
       "      <td>BaggingClassifier</td>\n",
       "      <td>0.838482</td>\n",
       "      <td>{'n_estimators': 1200}</td>\n",
       "    </tr>\n",
       "  </tbody>\n",
       "</table>\n",
       "</div>"
      ],
      "text/plain": [
       "                    model  best_score  \\\n",
       "0              GaussianNB    0.612812   \n",
       "1            RandomForest    0.837293   \n",
       "2  DecisionTreeClassifier    0.738663   \n",
       "3                     SVM    0.764544   \n",
       "4                 XGBoosT    0.850828   \n",
       "5       BaggingClassifier    0.838482   \n",
       "\n",
       "                                          best_param  \n",
       "0           {'var_smoothing': 0.0012328467394420659}  \n",
       "1                               {'n_estimators': 10}  \n",
       "2  {'criterion': 'entropy', 'max_depth': 9, 'spli...  \n",
       "3                         {'C': 20, 'kernel': 'rbf'}  \n",
       "4              {'max_depth': 3, 'n_estimators': 750}  \n",
       "5                             {'n_estimators': 1200}  "
      ]
     },
     "execution_count": 31,
     "metadata": {},
     "output_type": "execute_result"
    }
   ],
   "source": [
    "df=pd.DataFrame(scores,columns=['model','best_score','best_param'])\n",
    "df"
   ]
  },
  {
   "cell_type": "code",
   "execution_count": 32,
   "id": "58d8b08a-da98-4cdd-8f7c-0e7fca6fed83",
   "metadata": {},
   "outputs": [],
   "source": [
    "# Creating model and evaluating its performance metrics"
   ]
  },
  {
   "cell_type": "code",
   "execution_count": 33,
   "id": "48a69add-960d-4203-98eb-80d61cba1c35",
   "metadata": {},
   "outputs": [],
   "source": [
    "model=xgb.XGBClassifier(max_depth=3,n_estimators=750)"
   ]
  },
  {
   "cell_type": "code",
   "execution_count": 34,
   "id": "cd43dece-58e7-4c81-8fe5-ecc12a5b148a",
   "metadata": {},
   "outputs": [
    {
     "data": {
      "text/html": [
       "<style>#sk-container-id-1 {color: black;background-color: white;}#sk-container-id-1 pre{padding: 0;}#sk-container-id-1 div.sk-toggleable {background-color: white;}#sk-container-id-1 label.sk-toggleable__label {cursor: pointer;display: block;width: 100%;margin-bottom: 0;padding: 0.3em;box-sizing: border-box;text-align: center;}#sk-container-id-1 label.sk-toggleable__label-arrow:before {content: \"▸\";float: left;margin-right: 0.25em;color: #696969;}#sk-container-id-1 label.sk-toggleable__label-arrow:hover:before {color: black;}#sk-container-id-1 div.sk-estimator:hover label.sk-toggleable__label-arrow:before {color: black;}#sk-container-id-1 div.sk-toggleable__content {max-height: 0;max-width: 0;overflow: hidden;text-align: left;background-color: #f0f8ff;}#sk-container-id-1 div.sk-toggleable__content pre {margin: 0.2em;color: black;border-radius: 0.25em;background-color: #f0f8ff;}#sk-container-id-1 input.sk-toggleable__control:checked~div.sk-toggleable__content {max-height: 200px;max-width: 100%;overflow: auto;}#sk-container-id-1 input.sk-toggleable__control:checked~label.sk-toggleable__label-arrow:before {content: \"▾\";}#sk-container-id-1 div.sk-estimator input.sk-toggleable__control:checked~label.sk-toggleable__label {background-color: #d4ebff;}#sk-container-id-1 div.sk-label input.sk-toggleable__control:checked~label.sk-toggleable__label {background-color: #d4ebff;}#sk-container-id-1 input.sk-hidden--visually {border: 0;clip: rect(1px 1px 1px 1px);clip: rect(1px, 1px, 1px, 1px);height: 1px;margin: -1px;overflow: hidden;padding: 0;position: absolute;width: 1px;}#sk-container-id-1 div.sk-estimator {font-family: monospace;background-color: #f0f8ff;border: 1px dotted black;border-radius: 0.25em;box-sizing: border-box;margin-bottom: 0.5em;}#sk-container-id-1 div.sk-estimator:hover {background-color: #d4ebff;}#sk-container-id-1 div.sk-parallel-item::after {content: \"\";width: 100%;border-bottom: 1px solid gray;flex-grow: 1;}#sk-container-id-1 div.sk-label:hover label.sk-toggleable__label {background-color: #d4ebff;}#sk-container-id-1 div.sk-serial::before {content: \"\";position: absolute;border-left: 1px solid gray;box-sizing: border-box;top: 0;bottom: 0;left: 50%;z-index: 0;}#sk-container-id-1 div.sk-serial {display: flex;flex-direction: column;align-items: center;background-color: white;padding-right: 0.2em;padding-left: 0.2em;position: relative;}#sk-container-id-1 div.sk-item {position: relative;z-index: 1;}#sk-container-id-1 div.sk-parallel {display: flex;align-items: stretch;justify-content: center;background-color: white;position: relative;}#sk-container-id-1 div.sk-item::before, #sk-container-id-1 div.sk-parallel-item::before {content: \"\";position: absolute;border-left: 1px solid gray;box-sizing: border-box;top: 0;bottom: 0;left: 50%;z-index: -1;}#sk-container-id-1 div.sk-parallel-item {display: flex;flex-direction: column;z-index: 1;position: relative;background-color: white;}#sk-container-id-1 div.sk-parallel-item:first-child::after {align-self: flex-end;width: 50%;}#sk-container-id-1 div.sk-parallel-item:last-child::after {align-self: flex-start;width: 50%;}#sk-container-id-1 div.sk-parallel-item:only-child::after {width: 0;}#sk-container-id-1 div.sk-dashed-wrapped {border: 1px dashed gray;margin: 0 0.4em 0.5em 0.4em;box-sizing: border-box;padding-bottom: 0.4em;background-color: white;}#sk-container-id-1 div.sk-label label {font-family: monospace;font-weight: bold;display: inline-block;line-height: 1.2em;}#sk-container-id-1 div.sk-label-container {text-align: center;}#sk-container-id-1 div.sk-container {/* jupyter's `normalize.less` sets `[hidden] { display: none; }` but bootstrap.min.css set `[hidden] { display: none !important; }` so we also need the `!important` here to be able to override the default hidden behavior on the sphinx rendered scikit-learn.org. See: https://github.com/scikit-learn/scikit-learn/issues/21755 */display: inline-block !important;position: relative;}#sk-container-id-1 div.sk-text-repr-fallback {display: none;}</style><div id=\"sk-container-id-1\" class=\"sk-top-container\"><div class=\"sk-text-repr-fallback\"><pre>XGBClassifier(base_score=0.5, booster=&#x27;gbtree&#x27;, callbacks=None,\n",
       "              colsample_bylevel=1, colsample_bynode=1, colsample_bytree=1,\n",
       "              early_stopping_rounds=None, enable_categorical=False,\n",
       "              eval_metric=None, gamma=0, gpu_id=-1, grow_policy=&#x27;depthwise&#x27;,\n",
       "              importance_type=None, interaction_constraints=&#x27;&#x27;,\n",
       "              learning_rate=0.300000012, max_bin=256, max_cat_to_onehot=4,\n",
       "              max_delta_step=0, max_depth=3, max_leaves=0, min_child_weight=1,\n",
       "              missing=nan, monotone_constraints=&#x27;()&#x27;, n_estimators=750,\n",
       "              n_jobs=0, num_parallel_tree=1, objective=&#x27;multi:softprob&#x27;,\n",
       "              predictor=&#x27;auto&#x27;, random_state=0, reg_alpha=0, ...)</pre><b>In a Jupyter environment, please rerun this cell to show the HTML representation or trust the notebook. <br />On GitHub, the HTML representation is unable to render, please try loading this page with nbviewer.org.</b></div><div class=\"sk-container\" hidden><div class=\"sk-item\"><div class=\"sk-estimator sk-toggleable\"><input class=\"sk-toggleable__control sk-hidden--visually\" id=\"sk-estimator-id-1\" type=\"checkbox\" checked><label for=\"sk-estimator-id-1\" class=\"sk-toggleable__label sk-toggleable__label-arrow\">XGBClassifier</label><div class=\"sk-toggleable__content\"><pre>XGBClassifier(base_score=0.5, booster=&#x27;gbtree&#x27;, callbacks=None,\n",
       "              colsample_bylevel=1, colsample_bynode=1, colsample_bytree=1,\n",
       "              early_stopping_rounds=None, enable_categorical=False,\n",
       "              eval_metric=None, gamma=0, gpu_id=-1, grow_policy=&#x27;depthwise&#x27;,\n",
       "              importance_type=None, interaction_constraints=&#x27;&#x27;,\n",
       "              learning_rate=0.300000012, max_bin=256, max_cat_to_onehot=4,\n",
       "              max_delta_step=0, max_depth=3, max_leaves=0, min_child_weight=1,\n",
       "              missing=nan, monotone_constraints=&#x27;()&#x27;, n_estimators=750,\n",
       "              n_jobs=0, num_parallel_tree=1, objective=&#x27;multi:softprob&#x27;,\n",
       "              predictor=&#x27;auto&#x27;, random_state=0, reg_alpha=0, ...)</pre></div></div></div></div></div>"
      ],
      "text/plain": [
       "XGBClassifier(base_score=0.5, booster='gbtree', callbacks=None,\n",
       "              colsample_bylevel=1, colsample_bynode=1, colsample_bytree=1,\n",
       "              early_stopping_rounds=None, enable_categorical=False,\n",
       "              eval_metric=None, gamma=0, gpu_id=-1, grow_policy='depthwise',\n",
       "              importance_type=None, interaction_constraints='',\n",
       "              learning_rate=0.300000012, max_bin=256, max_cat_to_onehot=4,\n",
       "              max_delta_step=0, max_depth=3, max_leaves=0, min_child_weight=1,\n",
       "              missing=nan, monotone_constraints='()', n_estimators=750,\n",
       "              n_jobs=0, num_parallel_tree=1, objective='multi:softprob',\n",
       "              predictor='auto', random_state=0, reg_alpha=0, ...)"
      ]
     },
     "execution_count": 34,
     "metadata": {},
     "output_type": "execute_result"
    }
   ],
   "source": [
    "model.fit(X_train,y_train)"
   ]
  },
  {
   "cell_type": "code",
   "execution_count": 35,
   "id": "29a62a9a-baa1-4396-a18b-bcfac6be07a3",
   "metadata": {},
   "outputs": [
    {
     "data": {
      "text/plain": [
       "array([1, 1, 0, 2, 1, 1, 0, 0, 1, 0, 1, 2, 1, 1, 2, 0, 1, 2, 0, 1, 1, 1,\n",
       "       1, 0, 1, 2, 0, 1, 2, 0, 2, 1, 0, 2, 2, 1, 1, 0, 0, 0, 1, 2, 1, 2,\n",
       "       2, 0, 2, 2, 2, 0, 2, 2, 2, 1, 1, 2, 2, 0, 0, 0, 2, 2, 1, 2, 0, 1,\n",
       "       1, 2, 2, 0, 1, 1, 1, 0, 2, 2, 1, 1, 1, 1, 0, 1, 1, 2, 2, 0, 1, 0,\n",
       "       2, 2, 2, 0, 2, 1, 1, 0, 2, 2, 0, 0, 0, 2, 1, 1, 0, 2, 1, 1, 1, 1,\n",
       "       0, 1, 1, 2, 0, 1, 1, 1, 2, 1, 2, 1, 0, 2, 2, 1, 0, 2, 2, 2, 2, 2,\n",
       "       1, 0, 1, 1, 2, 0, 0, 0, 0, 1, 0, 0, 0, 0, 2, 0, 1, 1, 0, 1, 0, 1,\n",
       "       2, 0, 2, 1, 1, 1, 2, 0, 0, 1, 0, 2, 1, 0, 1, 0, 2, 1, 1, 1, 1, 2,\n",
       "       2, 1, 1, 0, 1, 2, 2, 1, 1, 0, 1, 2, 0, 1, 2, 2, 2, 2, 2, 1, 2, 0,\n",
       "       1, 1, 2, 2, 2], dtype=int64)"
      ]
     },
     "execution_count": 35,
     "metadata": {},
     "output_type": "execute_result"
    }
   ],
   "source": [
    "y_predicted=model.predict(X_test)\n",
    "y_predicted"
   ]
  },
  {
   "cell_type": "code",
   "execution_count": 36,
   "id": "43d137c3-c710-455f-ab91-815de84ae57e",
   "metadata": {},
   "outputs": [],
   "source": [
    "# Mannually predicting from the model"
   ]
  },
  {
   "cell_type": "code",
   "execution_count": 37,
   "id": "f7632878-7834-44fd-8827-b0732b150078",
   "metadata": {},
   "outputs": [
    {
     "data": {
      "text/plain": [
       "array([0], dtype=int64)"
      ]
     },
     "execution_count": 37,
     "metadata": {},
     "output_type": "execute_result"
    }
   ],
   "source": [
    "model.predict([[130,80,10,98,90,0]])"
   ]
  },
  {
   "cell_type": "code",
   "execution_count": 38,
   "id": "ae14653c-ac88-432d-8961-65bff729f876",
   "metadata": {},
   "outputs": [
    {
     "data": {
      "text/plain": [
       "array([2], dtype=int64)"
      ]
     },
     "execution_count": 38,
     "metadata": {},
     "output_type": "execute_result"
    }
   ],
   "source": [
    "model.predict([[130,80,10,98,90,1]])"
   ]
  },
  {
   "cell_type": "code",
   "execution_count": 39,
   "id": "e76c65fa-6cae-4afa-b6a3-6535d746a9d4",
   "metadata": {},
   "outputs": [],
   "source": [
    "# Here from above when all input features like BP, heart rate, temperature being same\n",
    "# Only difference in age group where Age group of patient(10-15] our model predicts Pregnancy of being high risk\n",
    "# Where for Age group of patients (15-20], model predicts as mid level risk in pregnancy."
   ]
  },
  {
   "cell_type": "code",
   "execution_count": 40,
   "id": "45df0dcd-1826-4140-9631-7dea05e0bf28",
   "metadata": {},
   "outputs": [
    {
     "data": {
      "text/plain": [
       "<AxesSubplot:title={'center':'Confusion Matrix_Heatmap'}>"
      ]
     },
     "execution_count": 40,
     "metadata": {},
     "output_type": "execute_result"
    },
    {
     "data": {
      "image/png": "[encoded data removed]",
      "text/plain": [
       "<Figure size 432x288 with 2 Axes>"
      ]
     },
     "metadata": {
      "needs_background": "light"
     },
     "output_type": "display_data"
    }
   ],
   "source": [
    "cm=confusion_matrix(y_test,y_predicted)\n",
    "plt.title('Confusion Matrix_Heatmap')\n",
    "sns.heatmap(cm,annot=True)"
   ]
  },
  {
   "cell_type": "code",
   "execution_count": 41,
   "id": "61b32848-c8f8-456f-a974-79da4b9261e6",
   "metadata": {},
   "outputs": [
    {
     "name": "stdout",
     "output_type": "stream",
     "text": [
      "Classification Report\n",
      "              precision    recall  f1-score   support\n",
      "\n",
      "           0       0.98      0.92      0.95        60\n",
      "           1       0.86      0.83      0.84        82\n",
      "           2       0.74      0.82      0.78        61\n",
      "\n",
      "    accuracy                           0.85       203\n",
      "   macro avg       0.86      0.86      0.86       203\n",
      "weighted avg       0.86      0.85      0.85       203\n",
      "\n"
     ]
    }
   ],
   "source": [
    "print(\"Classification Report\")\n",
    "print(classification_report(y_test,y_predicted))"
   ]
  },
  {
   "cell_type": "code",
   "execution_count": 43,
   "id": "964baa93-6e79-466a-944b-7e8035a585a5",
   "metadata": {},
   "outputs": [],
   "source": [
    "#Pickling the model file for the deployment"
   ]
  },
  {
   "cell_type": "code",
   "execution_count": 44,
   "id": "c389443a-3038-49b8-a573-fe475f283427",
   "metadata": {},
   "outputs": [],
   "source": [
    "import pickle"
   ]
  },
  {
   "cell_type": "code",
   "execution_count": 45,
   "id": "5f22a32b-e37e-4790-8c94-0114ab42c1e1",
   "metadata": {},
   "outputs": [],
   "source": [
    "pickle.dump(model,open('maternalrisk_model.pkl','wb'))"
   ]
  },
  {
   "cell_type": "code",
   "execution_count": null,
   "id": "cf17bed9-4846-4d62-8e0b-632a419b3ba0",
   "metadata": {},
   "outputs": [],
   "source": []
  }
 ],
 "metadata": {
  "kernelspec": {
   "display_name": "Python 3 (ipykernel)",
   "language": "python",
   "name": "python3"
  },
  "language_info": {
   "codemirror_mode": {
    "name": "ipython",
    "version": 3
   },
   "file_extension": ".py",
   "mimetype": "text/x-python",
   "name": "python",
   "nbconvert_exporter": "python",
   "pygments_lexer": "ipython3",
   "version": "3.10.3"
  }
 },
 "nbformat": 4,
 "nbformat_minor": 5
}
